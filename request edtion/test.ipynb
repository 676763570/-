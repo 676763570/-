{
 "cells": [
  {
   "cell_type": "code",
   "execution_count": 1,
   "metadata": {},
   "outputs": [
    {
     "name": "stdout",
     "output_type": "stream",
     "text": [
      "load data\n"
     ]
    }
   ],
   "source": [
    "from defs import *\n",
    "from send_email import *\n",
    "import json\n",
    "import time\n",
    "\n",
    "def Save_data(User_data,Completed,Wait_q):\n",
    "    with open('User_data.json','w') as F:\n",
    "        F.write(json.dumps(User_data))\n",
    "    with open('Completed.txt','w') as F:\n",
    "        F.write(json.dumps(Completed))\n",
    "    with open('Wait_q.txt','w') as F:\n",
    "        F.write(json.dumps(Wait_q))\n",
    "    print('Saved sucess')\n",
    "    send_email('Data Saved sucess')\n",
    "def Load_data():\n",
    "    with open('User_data.json','r') as F:\n",
    "        User_data = json.loads(F.read())\n",
    "    with open('Completed.txt','r') as F:\n",
    "        Completed = json.loads(F.read())\n",
    "    with open('Wait_q.txt','r') as F:\n",
    "        Wait_q = json.loads(F.read())\n",
    "    return User_data,Completed,Wait_q\n",
    "\n",
    "try:\n",
    "\tUser_data,Completed,Wait_q = Load_data()\n",
    "\tprint('load data')\n",
    "except:\n",
    "\tFir_token = 'TechMonster'\n",
    "\tUser_data = {}\n",
    "\tCompleted = []\n",
    "\tWait_q = []\n",
    "\twait_q.append(Fir_token)"
   ]
  },
  {
   "cell_type": "code",
   "execution_count": 26,
   "metadata": {},
   "outputs": [],
   "source": [
    "u = User_data[list(User_data.keys())[20]]"
   ]
  },
  {
   "cell_type": "code",
   "execution_count": 27,
   "metadata": {
    "scrolled": false
   },
   "outputs": [
    {
     "data": {
      "text/plain": [
       "dict_keys(['following', 'activities', 'info'])"
      ]
     },
     "execution_count": 27,
     "metadata": {},
     "output_type": "execute_result"
    }
   ],
   "source": [
    "u.keys()"
   ]
  },
  {
   "cell_type": "code",
   "execution_count": null,
   "metadata": {
    "scrolled": false
   },
   "outputs": [],
   "source": []
  },
  {
   "cell_type": "code",
   "execution_count": null,
   "metadata": {
    "collapsed": true
   },
   "outputs": [],
   "source": []
  }
 ],
 "metadata": {
  "kernelspec": {
   "display_name": "Python 3",
   "language": "python",
   "name": "python3"
  },
  "language_info": {
   "codemirror_mode": {
    "name": "ipython",
    "version": 3
   },
   "file_extension": ".py",
   "mimetype": "text/x-python",
   "name": "python",
   "nbconvert_exporter": "python",
   "pygments_lexer": "ipython3",
   "version": "3.6.4"
  }
 },
 "nbformat": 4,
 "nbformat_minor": 2
}
