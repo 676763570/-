{
 "cells": [
  {
   "cell_type": "code",
   "execution_count": 1,
   "metadata": {},
   "outputs": [
    {
     "name": "stdout",
     "output_type": "stream",
     "text": [
      "load data\n"
     ]
    }
   ],
   "source": [
    "from defs import *\n",
    "from send_email import *\n",
    "import json\n",
    "import time\n",
    "from bs4 import BeautifulSoup\n",
    "\n",
    "def Save_data(User_data,Completed,Wait_q):\n",
    "    with open('User_data.json','w') as F:\n",
    "        F.write(json.dumps(User_data))\n",
    "    with open('Completed.txt','w') as F:\n",
    "        F.write(json.dumps(Completed))\n",
    "    with open('Wait_q.txt','w') as F:\n",
    "        F.write(json.dumps(Wait_q))\n",
    "    print('Saved sucess')\n",
    "    send_email('Data Saved sucess')\n",
    "def Load_data():\n",
    "    with open('User_data.json','r') as F:\n",
    "        User_data = json.loads(F.read())\n",
    "    with open('Completed.txt','r') as F:\n",
    "        Completed = json.loads(F.read())\n",
    "    with open('Wait_q.txt','r') as F:\n",
    "        Wait_q = json.loads(F.read())\n",
    "    return User_data,Completed,Wait_q\n",
    "\n",
    "try:\n",
    "\tUser_data,Completed,Wait_q = Load_data()\n",
    "\tprint('load data')\n",
    "except:\n",
    "\tFir_token = 'TechMonster'\n",
    "\tUser_data = {}\n",
    "\tCompleted = []\n",
    "\tWait_q = []\n",
    "\twait_q.append(Fir_token)"
   ]
  },
  {
   "cell_type": "code",
   "execution_count": 2,
   "metadata": {
    "collapsed": true
   },
   "outputs": [],
   "source": [
    "#parameters\n",
    "test_time = True\n",
    "viaual = True\n",
    "act_limit = 1000\n",
    "\n",
    "token = 'yolfilm'\n",
    "\n",
    "url = 'https://www.zhihu.com/people/'+token\n",
    "#s = Prase_user(url,test_time=test_time,visual=viaual,act_limit=act_limit)"
   ]
  },
  {
   "cell_type": "code",
   "execution_count": null,
   "metadata": {
    "collapsed": true
   },
   "outputs": [],
   "source": []
  },
  {
   "cell_type": "code",
   "execution_count": 63,
   "metadata": {},
   "outputs": [
    {
     "data": {
      "text/plain": [
       "'https://www.zhihu.com/people/yolfilm/activities'"
      ]
     },
     "execution_count": 63,
     "metadata": {},
     "output_type": "execute_result"
    }
   ],
   "source": [
    "url"
   ]
  },
  {
   "cell_type": "code",
   "execution_count": 70,
   "metadata": {},
   "outputs": [],
   "source": [
    "r = Get_r(url)\n",
    "soup = BeautifulSoup(r.text,'lxml')\n",
    "p_ = soup.find_all('p')\n",
    "if len(p_)>0:\n",
    "    print('not exist')\n",
    "    exist = False\n",
    "    success = False\n",
    "    del Wait_q[0]"
   ]
  },
  {
   "cell_type": "code",
   "execution_count": 65,
   "metadata": {
    "collapsed": true
   },
   "outputs": [],
   "source": []
  },
  {
   "cell_type": "code",
   "execution_count": 67,
   "metadata": {
    "scrolled": false
   },
   "outputs": [
    {
     "data": {
      "text/plain": [
       "[]"
      ]
     },
     "execution_count": 67,
     "metadata": {},
     "output_type": "execute_result"
    }
   ],
   "source": []
  },
  {
   "cell_type": "code",
   "execution_count": null,
   "metadata": {
    "collapsed": true
   },
   "outputs": [],
   "source": []
  }
 ],
 "metadata": {
  "kernelspec": {
   "display_name": "Python 3",
   "language": "python",
   "name": "python3"
  },
  "language_info": {
   "codemirror_mode": {
    "name": "ipython",
    "version": 3
   },
   "file_extension": ".py",
   "mimetype": "text/x-python",
   "name": "python",
   "nbconvert_exporter": "python",
   "pygments_lexer": "ipython3",
   "version": "3.6.4"
  }
 },
 "nbformat": 4,
 "nbformat_minor": 2
}
